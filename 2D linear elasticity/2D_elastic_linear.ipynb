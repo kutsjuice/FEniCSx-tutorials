{
 "cells": [
  {
   "cell_type": "code",
   "execution_count": 1,
   "id": "9c40fbd7-933d-44c3-8eb9-bd0ff0c9adc2",
   "metadata": {},
   "outputs": [],
   "source": [
    "import numpy as np\n",
    "import ufl\n",
    "\n",
    "from mpi4py import MPI\n",
    "from petsc4py.PETSc import ScalarType\n",
    "\n",
    "from dolfinx import mesh, fem, plot, io\n",
    "from dolfinx.io import XDMFFile, gmshio\n",
    "from dolfinx.mesh import DiagonalType\n",
    "# import gmsh\n",
    "\n",
    "import pyvista"
   ]
  },
  {
   "cell_type": "code",
   "execution_count": 95,
   "id": "5a3d3555-d8a8-4bfc-8360-cc24f0aa501c",
   "metadata": {},
   "outputs": [],
   "source": [
    "L = 2.5\n",
    "H = 0.2\n",
    "Nx = 20\n",
    "Ny = 5\n",
    "# mesh = RectangleMesh(Point(0., 0.), Point(L, H), Nx, Ny, \"crossed\")"
   ]
  },
  {
   "cell_type": "code",
   "execution_count": 96,
   "id": "9fd4b682-d160-4585-8473-e094947624d4",
   "metadata": {},
   "outputs": [],
   "source": [
    "fe_mesh = mesh.create_rectangle(comm=MPI.COMM_WORLD,\n",
    "                             points=((0.0, 0.0), (L, H)), n=(Nx, Ny),\n",
    "                             cell_type = mesh.CellType.quadrilateral, \n",
    "                             diagonal = DiagonalType.crossed)#"
   ]
  },
  {
   "cell_type": "code",
   "execution_count": 97,
   "id": "68d1392b-01c4-4fd1-bbcf-e67cf9ef5bb6",
   "metadata": {},
   "outputs": [],
   "source": [
    "def eps(u):\n",
    "    return ufl.sym(ufl.grad(u))"
   ]
  },
  {
   "cell_type": "code",
   "execution_count": 98,
   "id": "7d2db60a-7272-4e9d-bddc-ca76bde56ef7",
   "metadata": {},
   "outputs": [],
   "source": [
    "E = 2.1e11;\n",
    "ν = 0.3;\n",
    "model = \"plane_stress\";\n",
    "\n",
    "μ = E / ( 2 * (1 + ν) );\n",
    "λ = E*ν / ( (1 + ν) * (1 - 2*ν) );\n",
    "if model == \"plane_stress\":\n",
    "    λ = 2*μ*λ/(λ+2*ν);\n",
    "def sigma(u):\n",
    "    ε = eps(u);\n",
    "    return λ * ufl.tr(ε) * ufl.Identity(2) + \\\n",
    "            2.0 * μ * ε"
   ]
  },
  {
   "cell_type": "markdown",
   "id": "46637cea-a502-49ba-b913-e70c62e75a1f",
   "metadata": {},
   "source": [
    "# Weak formulation\n",
    "In the Dolphinx the second parameter of \"VectorFunctionSpace\" is a tuple, which define all properties of elements, such basicfunction family and degree of polynomials. Or it Could be an object of type ElementMetaData"
   ]
  },
  {
   "cell_type": "code",
   "execution_count": 99,
   "id": "71d811b9-d13a-4064-a775-948bc464e154",
   "metadata": {},
   "outputs": [],
   "source": [
    "ρ = 7800;g =9.8; \n",
    "f = fem.Constant(fe_mesh, (0, -ρ*g));\n",
    "\n",
    "V = fem.VectorFunctionSpace(fe_mesh, (\"CG\", 2))\n",
    "du = ufl.TrialFunction(V);\n",
    "u_ = ufl.TestFunction(V);\n",
    "a = ufl.inner(sigma(du), eps(u_))*ufl.dx\n",
    "l = ufl.inner(f, u_)*ufl.dx"
   ]
  },
  {
   "cell_type": "markdown",
   "id": "6edc11bc-c5f0-456b-826a-d24436f86bcb",
   "metadata": {},
   "source": [
    "# Problem solving"
   ]
  },
  {
   "cell_type": "code",
   "execution_count": 101,
   "id": "2ea4a935-1229-4158-af4f-0b7416c2721b",
   "metadata": {},
   "outputs": [],
   "source": [
    "def left(x):\n",
    "    return np.isclose(x[0], 0.)\n",
    "\n",
    "fdim = fe_mesh.topology.dim - 1\n",
    "left_facets = mesh.locate_entities_boundary(fe_mesh, fdim, left)\n",
    "\n",
    "u_D = np.array([0.,0.], dtype=ScalarType)\n",
    "bc = fem.dirichletbc(u_D, fem.locate_dofs_topological(V, fdim, left_facets), V)"
   ]
  },
  {
   "cell_type": "code",
   "execution_count": 102,
   "id": "f6ec3c01-3f48-451f-b723-0c0c6acc229e",
   "metadata": {},
   "outputs": [],
   "source": [
    "problem = fem.petsc.LinearProblem(a, l, bcs=[bc], petsc_options={\"ksp_type\": \"preonly\", \"pc_type\": \"lu\"})\n",
    "uh = problem.solve()"
   ]
  },
  {
   "cell_type": "markdown",
   "id": "1021703a-7327-4451-ad66-85af55191f3e",
   "metadata": {},
   "source": [
    "# Visualization"
   ]
  },
  {
   "cell_type": "code",
   "execution_count": 104,
   "id": "4f486c01-49ef-499b-9eb8-a6ef466b9455",
   "metadata": {},
   "outputs": [
    {
     "data": {
      "application/vnd.jupyter.widget-view+json": {
       "model_id": "c66933b89ac34f92a4aabb644726856c",
       "version_major": 2,
       "version_minor": 0
      },
      "text/plain": [
       "ViewInteractiveWidget(height=768, layout=Layout(height='auto', width='100%'), width=1024)"
      ]
     },
     "metadata": {},
     "output_type": "display_data"
    }
   ],
   "source": [
    "pyvista.start_xvfb()\n",
    "plotter = pyvista.Plotter()\n",
    "\n",
    "topology, cell_types, geometry = plot.create_vtk_mesh(V)\n",
    "grid = pyvista.UnstructuredGrid(topology, cell_types, geometry)\n",
    "grid.point_data[\"u\"] = np.c_[uh.x.array.reshape((geometry.shape[0], 2)), np.zeros(geometry.shape[0]).T]\n",
    "actor_0 = plotter.add_mesh(grid, style=\"wireframe\", color=\"k\")\n",
    "warped = grid.warp_by_vector(\"u\", factor=500)\n",
    "actor_1 = plotter.add_mesh(warped, show_edges=True)\n",
    "\n",
    "plotter.show_axes()\n",
    "if not pyvista.OFF_SCREEN:\n",
    "    plotter.show()\n",
    "else:\n",
    "    figure = plotter.screenshot(\"fundamentals_mesh.png\")"
   ]
  },
  {
   "cell_type": "code",
   "execution_count": 105,
   "id": "2b7c03af-7bfc-419f-9b63-c70ecefb9039",
   "metadata": {},
   "outputs": [],
   "source": [
    "with io.XDMFFile(fe_mesh.comm, \"deformation.xdmf\", \"w\") as xdmf:\n",
    "    xdmf.write_mesh(fe_mesh)\n",
    "    uh.name = \"Deformation\"\n",
    "    xdmf.write_function(uh)"
   ]
  },
  {
   "cell_type": "code",
   "execution_count": null,
   "id": "18f9f8d6-eb01-450f-be7a-aeccd89d4a00",
   "metadata": {},
   "outputs": [],
   "source": []
  }
 ],
 "metadata": {
  "kernelspec": {
   "display_name": "Python 3 (ipykernel)",
   "language": "python",
   "name": "python3"
  },
  "language_info": {
   "codemirror_mode": {
    "name": "ipython",
    "version": 3
   },
   "file_extension": ".py",
   "mimetype": "text/x-python",
   "name": "python",
   "nbconvert_exporter": "python",
   "pygments_lexer": "ipython3",
   "version": "3.10.4"
  }
 },
 "nbformat": 4,
 "nbformat_minor": 5
}
