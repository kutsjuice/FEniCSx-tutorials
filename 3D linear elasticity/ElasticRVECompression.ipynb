{
 "cells": [
  {
   "cell_type": "markdown",
   "id": "6e1ff4f8-be60-4e2e-a811-a89bf2b1a7d5",
   "metadata": {},
   "source": [
    "This document present steel cube with size (10mm) x (10mm) x (10mm) under shear loading using FEniCSx as PDE solver and gmsh as meshing tool"
   ]
  },
  {
   "cell_type": "code",
   "execution_count": 1,
   "id": "6fb21271-cdf7-4997-9a26-00f79cb0b674",
   "metadata": {},
   "outputs": [],
   "source": [
    "# Scaled variable\n",
    "# cube sizes\n",
    "length = 1.0e-2\n",
    "width = 1.0e-2\n",
    "height = 1.0e-2\n",
    "\n",
    "# phisical properties\n",
    "ν = 0.3\n",
    "E = 2.1e11\n",
    "\n",
    "λ = ν*E/(1+ν)/(1-2*ν)\n",
    "μ = E/2/(1+ν)\n",
    "\n",
    "ρ = 7800.\n",
    "\n",
    "# define oputput \n",
    "## 0 - with XDMF file\n",
    "## 1 - with VTK file\n",
    "## 2 - with pyvista\n",
    "OUTPUT = 0\n",
    "\n",
    "# elements order\n",
    "ORDER = 2"
   ]
  },
  {
   "cell_type": "markdown",
   "id": "b939cfbe-f589-4a7e-94bb-eae2bb863906",
   "metadata": {},
   "source": [
    "import of all packages"
   ]
  },
  {
   "cell_type": "code",
   "execution_count": 2,
   "id": "a3c1ed15-8737-4c12-87f4-702da34e513e",
   "metadata": {},
   "outputs": [],
   "source": [
    "import numpy as np\n",
    "import ufl\n",
    "\n",
    "from mpi4py import MPI\n",
    "from petsc4py.PETSc import ScalarType\n",
    "\n",
    "from dolfinx import mesh, fem, plot, io\n",
    "from dolfinx.io import XDMFFile, gmshio\n",
    "\n",
    "import gmsh\n",
    "\n",
    "import pyvista"
   ]
  },
  {
   "cell_type": "markdown",
   "id": "a8cc9381-0ea8-4cd6-8943-11f1647eedc1",
   "metadata": {},
   "source": [
    "the main purpose of this example is usage of quadratic hexahedron as elements obtained with gmsh, since it is applicable for nonregular meshes\n",
    "\n",
    "in following we create box usign OpenCASCADe kernel of gmsh\n",
    "\n",
    "### pyvista doesn't show the right mesh if it has second order. Use VTK or XDMF output instead in this case"
   ]
  },
  {
   "cell_type": "code",
   "execution_count": 3,
   "id": "ebde3a10-527e-41b8-a2cc-ce6c89b8cd95",
   "metadata": {},
   "outputs": [],
   "source": [
    "gmsh.initialize()\n",
    "\n",
    "model = gmsh.model()\n",
    "model.add(\"main_domain\")\n",
    "model.setCurrent(\"main_domain\")\n",
    "\n",
    "# Choose if Gmsh output is verbose\n",
    "gmsh.option.setNumber(\"General.Terminal\", 0)\n",
    "\n",
    "# Set elements order to the specified one\n",
    "gmsh.option.setNumber(\"Mesh.ElementOrder\", ORDER)\n",
    "# Set elements size\n",
    "# gmsh.option.setNumber(\"Mesh.MeshSizeFromCurvature\", 5) # uncomment to use for mesh refinement dependending from its surface curvature\n",
    "gmsh.option.setNumber(\"Mesh.MeshSizeMax\", 10e-3)\n",
    "gmsh.option.setNumber(\"Mesh.MeshSizeMin\", 5e-3)\n",
    "\n",
    "# Set threads number for distrebuted meshing\n",
    "# gmsh.option.setNumber(\"Mesh.MaxNumThreads3D\", 4)\n",
    "\n",
    "# Set mesh algorithm (default is Delaunay triangulation)\n",
    "# see https://gmsh.info/doc/texinfo/gmsh.html#Choosing-the-right-unstructured-algorithm\n",
    "gmsh.option.setNumber(\"Mesh.Algorithm3D\", 3)\n",
    "\n",
    "# gmsh.option.setNumber(\"Mesh.RecombinationAlgorithm\",3)\n",
    "# gmsh.option.setNumber(\"Mesh.Recombine3DAll\",1)\n",
    "\n",
    "# Set the usage of hexahedron elements \n",
    "gmsh.option.setNumber(\"Mesh.SubdivisionAlgorithm\", 2)\n",
    "\n",
    "\n",
    "box_tag = model.occ.add_box(-length/2, -width/2, -height/2 , length, width, height)\n",
    "\n",
    "# Synchronize OpenCascade representation with gmsh model\n",
    "model.occ.synchronize()\n",
    "\n",
    "# Add physical marker for cells. It is important to call this function\n",
    "# after OpenCascade synchronization\n",
    "model.add_physical_group(dim=3, tags=[box_tag])\n",
    "\n",
    "# Generate the mesh\n",
    "# model.mesh.generate(2)\n",
    "# model.mesh.recombine()\n",
    "model.mesh.generate(dim=3)\n",
    "\n",
    "\n",
    "\n",
    "# Create a DOLFINx mesh (same mesh on each rank)\n",
    "msh, cell_markers, facet_markers = gmshio.model_to_mesh(model, MPI.COMM_SELF,0)\n",
    "msh.name = \"Box\"\n",
    "cell_markers.name = f\"{msh.name}_cells\"\n",
    "facet_markers.name = f\"{msh.name}_facets\"\n",
    "\n",
    "# Finalize gmsh to be able to use it again\n",
    "gmsh.finalize()\n",
    "\n",
    "if OUTPUT == 0:\n",
    "    # write mesh to XDMF file\n",
    "    with io.XDMFFile(msh.comm, \"out/mesh.xdmf\", \"w\") as file:\n",
    "        file.write_mesh(msh)\n",
    "        file.write_meshtags(cell_markers)\n",
    "        msh.topology.create_connectivity(msh.topology.dim - 1, msh.topology.dim)\n",
    "        file.write_meshtags(facet_markers)\n",
    "elif OUTPUT == 1:\n",
    "    # write mesh to VTK file\n",
    "    with io.VTKFile(msh.comm, \"out/mesh.pvd\", \"w\") as vtk:\n",
    "        vtk.write_mesh(msh)\n",
    "elif OUTPUT == 2: \n",
    "    # visualize using pyvista\n",
    "    # to use it, ipycanvas and ipyvtklink py needs to be installed\n",
    "    # Just run in terminal:\n",
    "    # ~# pip install ipyvtklink ipycanvas\n",
    "    pyvista.start_xvfb()\n",
    "\n",
    "    # Create plotter and pyvista grid\n",
    "    p = pyvista.Plotter()\n",
    "    topology, cell_types, geometry = plot.create_vtk_mesh(msh)\n",
    "    grid = pyvista.UnstructuredGrid(topology, cell_types, geometry)\n",
    "\n",
    "    actor_0 = p.add_mesh(grid, show_edges=True)#style=\"wireframe\", color=\"k\")\n",
    "\n",
    "    p.show_axes()\n",
    "    if not pyvista.OFF_SCREEN:\n",
    "       p.show()\n",
    "    else:\n",
    "       figure_as_array = p.screenshot(\"mesh.png\")\n",
    "\n"
   ]
  },
  {
   "cell_type": "markdown",
   "id": "a1a83317-eb95-480d-aabf-54111d319754",
   "metadata": {},
   "source": [
    "Create function space\n",
    "to use with quadratic hexahedal elements quadrature scheme shoud be speciafied (commented lines), but these doesn't work, idk why"
   ]
  },
  {
   "cell_type": "code",
   "execution_count": 4,
   "id": "75379c89-6d21-4a91-87aa-a552ea4c4a42",
   "metadata": {},
   "outputs": [],
   "source": [
    "# P_q = ufl.FiniteElement(\"CG\", msh.ufl_cell(), degree=ORDER, quad_scheme=\"default\")\n",
    "# V = FunctionSpace(msh, P_q)\n",
    "V = fem.VectorFunctionSpace(msh, (\"CG\", ORDER))"
   ]
  },
  {
   "cell_type": "markdown",
   "id": "6e71ddd7-53e5-4e7b-b91b-899f58dd385f",
   "metadata": {},
   "source": [
    "Create boundary conditions:\n",
    "For the left side (x=-length/2) we apply bonded constrains (u[0] = 0)\n",
    "The right side (x = length/2) we load with kinematic loading (u[0] = -1mm)"
   ]
  },
  {
   "cell_type": "code",
   "execution_count": 5,
   "id": "8d7fd88e-1481-4ded-9f11-1008bfe04c2f",
   "metadata": {},
   "outputs": [],
   "source": [
    "def clamped_boundary(x):\n",
    "    return np.isclose(x[0], -length/2)\n",
    "\n",
    "def shifted_boundary(x):\n",
    "    return np.isclose(x[0], length/2)\n",
    "\n",
    "fdim = msh.topology.dim - 1\n",
    "boundary_facets_left = mesh.locate_entities_boundary(msh, fdim, clamped_boundary)\n",
    "boundary_facets_right = mesh.locate_entities_boundary(msh, fdim, shifted_boundary)\n",
    "\n",
    "u_D_l = np.array([0.,0.,0.], dtype=ScalarType)\n",
    "u_D_r = np.array([0.,0.,-1e-3], dtype=ScalarType)\n",
    "\n",
    "bc_l = fem.dirichletbc(u_D_l, fem.locate_dofs_topological(V, fdim, boundary_facets_left), V)\n",
    "bc_r = fem.dirichletbc(u_D_r, fem.locate_dofs_topological(V, fdim, boundary_facets_right), V)"
   ]
  },
  {
   "cell_type": "markdown",
   "id": "785ae7ad-4165-465e-ade9-2040d637c379",
   "metadata": {},
   "source": [
    "Specify the linear elastic problem (from the example https://jsdokken.com/dolfinx-tutorial/chapter2/linearelasticity_code.html)"
   ]
  },
  {
   "cell_type": "code",
   "execution_count": 6,
   "id": "9f5d98af-b87b-46b4-9681-d6cd3bdaab4f",
   "metadata": {},
   "outputs": [],
   "source": [
    "T = fem.Constant(msh, ScalarType((0., 0., 0.)))\n",
    "ds = ufl.Measure(\"ds\", domain=msh)\n",
    "\n",
    "def epsilon(u):\n",
    "    return ufl.sym(ufl.grad(u)) # Equivalent to 0.5*(ufl.nabla_grad(u) + ufl.nabla_grad(u).T)\n",
    "def sigma(u):\n",
    "    return λ * ufl.nabla_div(u) * ufl.Identity(len(u)) + 2*μ*epsilon(u)\n",
    "\n",
    "u = ufl.TrialFunction(V)\n",
    "v = ufl.TestFunction(V)\n",
    "f = fem.Constant(msh, ScalarType((0., 0., 0.)))\n",
    "a = ufl.inner(sigma(u), epsilon(v)) * ufl.dx\n",
    "L = ufl.dot(f, v) * ufl.dx + ufl.dot(T, v) * ds"
   ]
  },
  {
   "cell_type": "markdown",
   "id": "10ee728d-75b2-43bf-9487-818f87c2b76f",
   "metadata": {},
   "source": [
    "solving of the problem"
   ]
  },
  {
   "cell_type": "code",
   "execution_count": 7,
   "id": "2cf47b0c-5317-4801-a70d-067624c19f29",
   "metadata": {},
   "outputs": [],
   "source": [
    "problem = fem.petsc.LinearProblem(a, L, bcs=[bc_l, bc_r], petsc_options={\"ksp_type\": \"preonly\", \"pc_type\": \"lu\"})\n",
    "uh = problem.solve()"
   ]
  },
  {
   "cell_type": "markdown",
   "id": "f0177bdb-a328-4ac5-861b-ad831d84e2b1",
   "metadata": {},
   "source": [
    "Output"
   ]
  },
  {
   "cell_type": "code",
   "execution_count": 8,
   "id": "f659e255-c5ec-468e-afa0-b7072794ae8c",
   "metadata": {},
   "outputs": [],
   "source": [
    "uh.name = \"Deformation\"\n",
    "\n",
    "    \n",
    "if OUTPUT == 0:\n",
    "    # write mesh to XDMF file\n",
    "    with io.XDMFFile(msh.comm, \"out/deformation.xdmf\", \"w\") as xdmf:\n",
    "        xdmf.write_mesh(msh)\n",
    "        xdmf.write_function(uh)\n",
    "elif OUTPUT == 1:\n",
    "    # write mesh to VTK file\n",
    "    with io.VTKFile(msh.comm, \"out/deformation.pvd\", \"w\") as vtk:\n",
    "        vtk.write_mesh(msh)\n",
    "        vtk.write_function(uh)\n",
    "elif OUTPUT == 2: \n",
    "    # visualize using pyvista\n",
    "    # to use it, ipycanvas and ipyvtklink py needs to be installed\n",
    "    # Just run in terminal:\n",
    "    # ~# pip install ipyvtklink ipycanvas\n",
    "    pyvista.start_xvfb()\n",
    "\n",
    "    # Create plotter and pyvista grid\n",
    "    p = pyvista.Plotter()\n",
    "    topology, cell_types, geometry = plot.create_vtk_mesh(msh)\n",
    "    grid = pyvista.UnstructuredGrid(topology, cell_types, geometry)\n",
    "\n",
    "    # # Attach vector values to grid and warp grid by vector\n",
    "    grid[\"u\"] = uh.x.array.reshape((geometry.shape[0], 3))\n",
    "    actor_0 = p.add_mesh(grid, style=\"wireframe\", color=\"k\")\n",
    "    warped = grid.warp_by_vector(\"u\", factor=1.5)\n",
    "    actor_1 = p.add_mesh(warped, show_edges=True)\n",
    "    p.show_axes()\n",
    "    if not pyvista.OFF_SCREEN:\n",
    "       p.show()\n",
    "    else:\n",
    "       figure_as_array = p.screenshot(\"deformation.png\")\n"
   ]
  },
  {
   "cell_type": "code",
   "execution_count": null,
   "id": "fba18ba3-6c25-4f55-abc6-ac49b47f8547",
   "metadata": {},
   "outputs": [],
   "source": []
  }
 ],
 "metadata": {
  "kernelspec": {
   "display_name": "Python 3 (ipykernel)",
   "language": "python",
   "name": "python3"
  },
  "language_info": {
   "codemirror_mode": {
    "name": "ipython",
    "version": 3
   },
   "file_extension": ".py",
   "mimetype": "text/x-python",
   "name": "python",
   "nbconvert_exporter": "python",
   "pygments_lexer": "ipython3",
   "version": "3.10.4"
  }
 },
 "nbformat": 4,
 "nbformat_minor": 5
}
