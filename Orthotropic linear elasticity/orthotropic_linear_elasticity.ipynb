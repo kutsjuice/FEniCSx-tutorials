{
 "cells": [
  {
   "cell_type": "markdown",
   "id": "f7c1c3da-7d2e-41a4-a0b8-59d5237077b0",
   "metadata": {},
   "source": [
    "# Orthotropic linear elasticity\n",
    "\n",
    "The original example is taken from [here](https://comet-fenics.readthedocs.io/en/latest/demo/elasticity/orthotropic_elasticity.py.html). This example just updates code to FEniCSx\n",
    "\n",
    "## Introduction\n",
    "\n",
    "In this numerical tour, we will show how to tackle the case of orthotropic elasticity (in a 2D setting).\n",
    "\n",
    "We consider here the case of a square plate perforated by a circular hole of radius R\n",
    ", the plate dimension is $2L×2L$\n",
    " with $L≫R$\n",
    "Only the top-right quarter of the plate will be considered. Loading will consist of a uniform traction on the top/bottom boundaries, symmetry conditions will also be applied on the correponding symmetry planes. The geometry is shown on figure\n",
    "\n",
    "<div style=\"text-align:center\">\n",
    "  <img src=\"pics/geometry.png\" alt=\"Problem geometry\" width=400 height=400 title=\"Problem geometry\">\n",
    "  <figcaption><b>Problem geometry</b></figcaption>\n",
    "</div>"
   ]
  },
  {
   "cell_type": "code",
   "execution_count": 2,
   "id": "af4e26c8-5e22-4e2f-955b-bf0669ef37e4",
   "metadata": {},
   "outputs": [],
   "source": [
    "import numpy as np\n",
    "import ufl\n",
    "\n",
    "from mpi4py import MPI\n",
    "from petsc4py.PETSc import ScalarType\n",
    "\n",
    "from dolfinx import mesh, fem, plot, io\n",
    "from dolfinx.io import XDMFFile, gmshio\n",
    "from dolfinx.mesh import DiagonalType\n",
    "import gmsh\n",
    "\n",
    "import pyvista"
   ]
  },
  {
   "cell_type": "markdown",
   "id": "c6cc4c1f-88e3-4faf-b2a7-f8e746349c2f",
   "metadata": {},
   "source": [
    "To generate the perforated domain we use here the mshr module and define the boolean “minus” operation between a rectangle and a circle:"
   ]
  },
  {
   "cell_type": "code",
   "execution_count": 19,
   "id": "91086056-a89a-4f04-bbda-4080041cb47f",
   "metadata": {},
   "outputs": [
    {
     "name": "stdout",
     "output_type": "stream",
     "text": [
      "Info    : Meshing 1D...\n",
      "Info    : [  0%] Meshing curve 1 (Line)\n",
      "Info    : [ 20%] Meshing curve 2 (Line)\n",
      "Info    : [ 40%] Meshing curve 3 (Line)\n",
      "Info    : [ 60%] Meshing curve 4 (Line)\n",
      "Info    : [ 80%] Meshing curve 5 (Circle)\n",
      "Info    : Done meshing 1D (Wall 0.00439105s, CPU 0.004977s)\n",
      "Info    : Meshing 2D...\n",
      "Info    : Meshing surface 1 (Plane, Frontal-Delaunay for Quads)\n",
      "Info    : Done meshing 2D (Wall 0.0510802s, CPU 0.043765s)\n",
      "Info    : 1034 nodes 2070 elements\n",
      "Info    : Recombining 2D mesh...\n",
      "Info    : Blossom: 2836 internal 129 closed\n",
      "Info    : Blossom recombination completed (Wall 0.0189544s, CPU 0.010118s): 961 quads, 0 triangles, 0 invalid quads, 0 quads with Q < 0.1, avg Q = 0.874401, min Q = 0.42561\n",
      "Info    : Done recombining 2D mesh (Wall 0.0191052s, CPU 0.010321s)\n"
     ]
    }
   ],
   "source": [
    "L, R = 1., 0.1\n",
    "N = 50 # mesh density\n",
    "\n",
    "\n",
    "SHOW_PYVISTA = False;\n",
    "# SHOW_PYVISTA = True;\n",
    "\n",
    "gmsh.initialize();\n",
    "model = gmsh.model();\n",
    "model.add(\"main_domain\");\n",
    "model.setCurrent(\"main_domain\");\n",
    "\n",
    "try:\n",
    "    p1 = model.occ.add_point(0, 0, 0);\n",
    "    p2 = model.occ.add_point(L, 0, 0);\n",
    "    p3 = model.occ.add_point(L, L, 0);\n",
    "    p4 = model.occ.add_point(0, L, 0);\n",
    "\n",
    "    p5 = model.occ.add_point(R, 0, 0);\n",
    "    p6 = model.occ.add_point(0, R, 0);\n",
    "\n",
    "    l1 = model.occ.add_line(p5, p2);\n",
    "    l2 = model.occ.add_line(p2, p3);\n",
    "    l3 = model.occ.add_line(p3, p4);\n",
    "    l4 = model.occ.add_line(p4, p6);\n",
    "    # l5 = model.occ.add_line(p6, p5);\n",
    "    ar = model.occ.add_circle_arc(p5, p1, p6); \n",
    "\n",
    "    curve_loop = model.occ.add_curve_loop([l1, l2, l3, l4, ar]);\n",
    "    model.occ.synchronize();\n",
    "\n",
    "    domain = model.occ.add_plane_surface([curve_loop]);\n",
    "\n",
    "    model.occ.synchronize();\n",
    "\n",
    "    model.add_physical_group(dim=2, tags=[domain]);\n",
    "    gmsh.option.setNumber(\"Mesh.Algorithm\", 8);\n",
    "\n",
    "    # Generate the mesh\n",
    "    model.mesh.set_size(model.getEntities(0), 0.05);\n",
    "    model.mesh.set_size([(0, p5),(0, p6)], 0.01);\n",
    "    model.mesh.generate(dim=2);\n",
    "    model.mesh.recombine();\n",
    "\n",
    "    # Create a DOLFINx mesh (same mesh on each rank)\n",
    "    msh, cell_markers, facet_markers = gmshio.model_to_mesh(model, MPI.COMM_SELF,0,gdim=2);\n",
    "    msh.name = \"Box\";\n",
    "    cell_markers.name = f\"{msh.name}_cells\";\n",
    "    facet_markers.name = f\"{msh.name}_facets\";\n",
    "finally:\n",
    "    gmsh.finalize();\n",
    "\n",
    "if SHOW_PYVISTA:\n",
    "    \n",
    "    pyvista.start_xvfb();\n",
    "    plotter = pyvista.Plotter();\n",
    "\n",
    "    topology, cell_types, geometry = plot.create_vtk_mesh(msh);\n",
    "    grid = pyvista.UnstructuredGrid(topology, cell_types, geometry);\n",
    "    # grid.point_data[\"u\"] = np.c_[uh.x.array.reshape((geometry.shape[0], 2)), np.zeros(geometry.shape[0]).T]\n",
    "    actor_0 = plotter.add_mesh(grid, style=\"wireframe\", color=\"k\");\n",
    "    # warped = grid.warp_by_vector(\"u\", factor=500)\n",
    "    # actor_1 = plotter.add_mesh(warped, show_edges=True)\n",
    "\n",
    "    plotter.show_axes()\n",
    "    if not pyvista.OFF_SCREEN:\n",
    "        plotter.show();\n",
    "    else:\n",
    "        figure = plotter.screenshot(\"fundamentals_mesh.png\");"
   ]
  },
  {
   "cell_type": "code",
   "execution_count": null,
   "id": "dacecd06-9dd4-4767-8bd7-e9487f9782c6",
   "metadata": {},
   "outputs": [],
   "source": [
    "Ex, Ey, nuxy, Gxy = 100., 10., 0.3, 5.;\n",
    "S = as_matrix([[1./Ex,-nuxy/Ex,0.],[-nuxy/Ex,1./Ey,0.],[0.,0.,1./Gxy]])\n",
    "C = inv(S)"
   ]
  },
  {
   "cell_type": "code",
   "execution_count": null,
   "id": "0ee54ee0-9363-4902-a71a-54d026e0963a",
   "metadata": {},
   "outputs": [],
   "source": [
    "V = fem.VectorFunctionSpace(msh, (\"CG\", 2));\n"
   ]
  }
 ],
 "metadata": {
  "kernelspec": {
   "display_name": "Python 3 (ipykernel)",
   "language": "python",
   "name": "python3"
  },
  "language_info": {
   "codemirror_mode": {
    "name": "ipython",
    "version": 3
   },
   "file_extension": ".py",
   "mimetype": "text/x-python",
   "name": "python",
   "nbconvert_exporter": "python",
   "pygments_lexer": "ipython3",
   "version": "3.10.4"
  }
 },
 "nbformat": 4,
 "nbformat_minor": 5
}
