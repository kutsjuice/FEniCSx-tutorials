{
 "cells": [
  {
   "cell_type": "markdown",
   "id": "f7c1c3da-7d2e-41a4-a0b8-59d5237077b0",
   "metadata": {},
   "source": [
    "# Orthotropic linear elasticity\n",
    "\n",
    "The original example is taken from [here](https://comet-fenics.readthedocs.io/en/latest/demo/elasticity/orthotropic_elasticity.py.html). This example just updates code to FEniCSx\n",
    "\n",
    "## Introduction\n",
    "\n",
    "In this numerical tour, we will show how to tackle the case of orthotropic elasticity (in a 2D setting).\n",
    "\n",
    "We consider here the case of a square plate perforated by a circular hole of radius R\n",
    ", the plate dimension is $2L×2L$\n",
    " with $L≫R$\n",
    "Only the top-right quarter of the plate will be considered. Loading will consist of a uniform traction on the top/bottom boundaries, symmetry conditions will also be applied on the correponding symmetry planes. The geometry is shown on figure\n",
    "\n",
    "<div style=\"text-align:center\">\n",
    "  <img src=\"pics/geometry.png\" alt=\"Problem geometry\" width=400 height=400 title=\"Problem geometry\">\n",
    "  <figcaption><b>Problem geometry</b></figcaption>\n",
    "</div>"
   ]
  },
  {
   "cell_type": "code",
   "execution_count": 19,
   "id": "af4e26c8-5e22-4e2f-955b-bf0669ef37e4",
   "metadata": {},
   "outputs": [],
   "source": [
    "import numpy as np\n",
    "import ufl\n",
    "\n",
    "from mpi4py import MPI\n",
    "from petsc4py.PETSc import ScalarType\n",
    "\n",
    "from dolfinx import mesh, fem, plot, io\n",
    "from dolfinx.io import XDMFFile, gmshio\n",
    "from dolfinx.mesh import DiagonalType\n",
    "import gmsh\n",
    "\n",
    "import pyvista"
   ]
  },
  {
   "cell_type": "markdown",
   "id": "c6cc4c1f-88e3-4faf-b2a7-f8e746349c2f",
   "metadata": {},
   "source": [
    "Generation of domain is performed using gmsh. \n",
    "At first we generate points, than lines and circle arc between them, then they are conecting into curve loop, which is use to generate cloe plane."
   ]
  },
  {
   "cell_type": "code",
   "execution_count": 70,
   "id": "32f022ca-a11e-4ed7-9e4d-c291fb432a6b",
   "metadata": {},
   "outputs": [
    {
     "name": "stdout",
     "output_type": "stream",
     "text": [
      "Info    : Meshing 1D...\n",
      "Info    : [  0%] Meshing curve 1 (Line)\n",
      "Info    : [ 20%] Meshing curve 2 (Line)\n",
      "Info    : [ 40%] Meshing curve 3 (Line)\n",
      "Info    : [ 60%] Meshing curve 4 (Line)\n",
      "Info    : [ 80%] Meshing curve 5 (Circle)\n",
      "Info    : Done meshing 1D (Wall 0.00780919s, CPU 0.007523s)\n",
      "Info    : Meshing 2D...\n",
      "Info    : Meshing surface 1 (Plane, Frontal-Delaunay for Quads)\n",
      "Info    : Done meshing 2D (Wall 0.037712s, CPU 0.037736s)\n",
      "Info    : 601 nodes 1204 elements\n",
      "Info    : Recombining 2D mesh...\n",
      "Info    : Blossom: 1577 internal 109 closed\n",
      "Info    : Blossom recombination completed (Wall 0.018952s, CPU 0.018992s): 540 quads, 0 triangles, 0 invalid quads, 0 quads with Q < 0.1, avg Q = 0.819975, min Q = 0.495836\n",
      "Info    : Done recombining 2D mesh (Wall 0.0191431s, CPU 0.019228s)\n"
     ]
    },
    {
     "data": {
      "application/vnd.jupyter.widget-view+json": {
       "model_id": "2c22a01329f148d98bb2b38d1966be5a",
       "version_major": 2,
       "version_minor": 0
      },
      "text/plain": [
       "ViewInteractiveWidget(height=768, layout=Layout(height='auto', width='100%'), width=1024)"
      ]
     },
     "metadata": {},
     "output_type": "display_data"
    }
   ],
   "source": [
    "L, R = 1., 0.1\n",
    "N = 50 # mesh density\n",
    "\n",
    "\n",
    "SHOW_PYVISTA = False;\n",
    "SHOW_PYVISTA = True;\n",
    "\n",
    "gmsh.initialize();\n",
    "model = gmsh.model();\n",
    "model.add(\"main_domain\");\n",
    "model.setCurrent(\"main_domain\");\n",
    "\n",
    "try:\n",
    "    p1 = model.occ.add_point(0, 0, 0);\n",
    "    p2 = model.occ.add_point(L, 0, 0);\n",
    "    p3 = model.occ.add_point(L, L, 0);\n",
    "    p4 = model.occ.add_point(0, L, 0);\n",
    "\n",
    "    p5 = model.occ.add_point(R, 0, 0);\n",
    "    p6 = model.occ.add_point(0, R, 0);\n",
    "\n",
    "    l1 = model.occ.add_line(p5, p2);\n",
    "    l2 = model.occ.add_line(p2, p3);\n",
    "    l3 = model.occ.add_line(p3, p4);\n",
    "    l4 = model.occ.add_line(p4, p6);\n",
    "    # l5 = model.occ.add_line(p6, p5);\n",
    "    ar = model.occ.add_circle_arc(p5, p1, p6); \n",
    "\n",
    "    curve_loop = model.occ.add_curve_loop([l1, l2, l3, l4, ar]);\n",
    "    model.occ.synchronize();\n",
    "\n",
    "    domain = model.occ.add_plane_surface([curve_loop]);\n",
    "\n",
    "    model.occ.synchronize();\n",
    "\n",
    "    model.add_physical_group(dim=2, tags=[domain]);\n",
    "    gmsh.option.setNumber(\"Mesh.Algorithm\", 8);\n",
    "\n",
    "    # Generate the mesh\n",
    "    model.mesh.set_size(model.getEntities(0), 0.1);\n",
    "    model.mesh.set_size([(0, p5),(0, p6)], 0.005);\n",
    "    model.mesh.generate(dim=2);\n",
    "    model.mesh.recombine();\n",
    "\n",
    "    # Create a DOLFINx mesh (same mesh on each rank)\n",
    "    msh, cell_markers, facet_markers = gmshio.model_to_mesh(model, MPI.COMM_SELF,0,gdim=2);\n",
    "    msh.name = \"Box\";\n",
    "    cell_markers.name = f\"{msh.name}_cells\";\n",
    "    facet_markers.name = f\"{msh.name}_facets\";\n",
    "finally:\n",
    "    gmsh.finalize();\n",
    "\n",
    "if SHOW_PYVISTA:\n",
    "    \n",
    "    pyvista.start_xvfb();\n",
    "    plotter = pyvista.Plotter();\n",
    "\n",
    "    topology, cell_types, geometry = plot.create_vtk_mesh(msh);\n",
    "    grid = pyvista.UnstructuredGrid(topology, cell_types, geometry);\n",
    "    # grid.point_data[\"u\"] = np.c_[uh.x.array.reshape((geometry.shape[0], 2)), np.zeros(geometry.shape[0]).T]\n",
    "    actor_0 = plotter.add_mesh(grid, style=\"wireframe\", color=\"k\");\n",
    "    # warped = grid.warp_by_vector(\"u\", factor=500)\n",
    "    # actor_1 = plotter.add_mesh(warped, show_edges=True)\n",
    "\n",
    "    plotter.show_axes()\n",
    "    if not pyvista.OFF_SCREEN:\n",
    "        plotter.show();\n",
    "    else:\n",
    "        figure = plotter.screenshot(\"fundamentals_mesh.png\");"
   ]
  },
  {
   "cell_type": "markdown",
   "id": "53d0b7bd-4b3a-4628-9e52-cb380bad2df2",
   "metadata": {},
   "source": [
    "## Constitutive relation\n",
    "Constitutive relations will be defined using an engineering (or Voigt) notation (i.e. second order tensors will be written as a vector of their components) contrary to the 2D linear elasticity example which used an intrinsic notation. In the material frame, which is assumed to coincide here with the global ($Oxy$) frame, the orthotropic constitutive law writes $\\mathbf{\\varepsilon}=\\mathbf{S\\sigma}$ using the compliance matrix $\\mathbf{S}$ with:\n",
    "\n",
    "with $E_x$, $E_y$ the two Young’s moduli in the orthotropy directions, $\\nu_{xy}$ the in-plane Poisson ration (with the following relation ensuring the constitutive relation symmetry $(\\nu_{yx}=\\nu_{xy}E_y/E_x)$ and $G_{xy}$ being the shear modulus. This relation needs to be inverted to obtain the stress components as a function of the strain components $\\mathbf{\\sigma}=\\mathbf{C\\varepsilon}$ with $\\mathbf{C}=\\mathbf{S}^{−1}$:"
   ]
  },
  {
   "cell_type": "code",
   "execution_count": 71,
   "id": "dacecd06-9dd4-4767-8bd7-e9487f9782c6",
   "metadata": {},
   "outputs": [],
   "source": [
    "Ex, Ey, nuxy, Gxy = 100., 10., 0.3, 5.;\n",
    "S = ufl.as_matrix([[   1./Ex, -nuxy/Ex,     0.],\n",
    "                   [-nuxy/Ex,    1./Ey,     0.],\n",
    "                   [      0.,       0., 1./Gxy]\n",
    "                  ])\n",
    "C = ufl.inv(S)"
   ]
  },
  {
   "cell_type": "markdown",
   "id": "cd3c9309-a2f7-439c-91c8-b72c1e8f340a",
   "metadata": {},
   "source": [
    "> \n",
    "> **NOTE**\n",
    ">\n",
    "> Here we used the `ufl.inv` opertor to compute the elasticity matrix C. We could also have computed analytically the inverse relation. Note that the `ufl.inv` operator is implemented only up to 3x3 matrices. Extension to the 3D case yields 6x6 matrices and therefore requires either analytical inversion or numerical inversion using *Numpy* for instance (assuming that the material parameters are constants).\n",
    ">\n",
    "\n",
    "We define different functions for representing the stress and strain either as second-order tensor or using the Voigt engineering notation:"
   ]
  },
  {
   "cell_type": "code",
   "execution_count": 72,
   "id": "1df7715c-a594-4923-8f8c-e8720d9a8992",
   "metadata": {},
   "outputs": [],
   "source": [
    "def eps(v):\n",
    "    return ufl.sym(ufl.grad(v));\n",
    "\n",
    "def strain2voigt(e):\n",
    "    \"\"\"e is a 2nd-order tensor, returns its Voigt vectorial representation\"\"\"\n",
    "    return ufl.as_vector([e[0,0],e[1,1],2*e[0,1]]);\n",
    "\n",
    "def voigt2stress(s):\n",
    "    \"\"\"\n",
    "    s is a stress-like vector (no 2 factor on last component)\n",
    "    returns its tensorial representation\n",
    "    \"\"\"\n",
    "    return ufl.as_tensor([[s[0], s[2]],\n",
    "                          [s[2], s[1]]\n",
    "                         ]);\n",
    "# notice, that C - is global variable, defined in previous code cell\n",
    "def sigma(v):\n",
    "    return voigt2stress(ufl.dot(C, strain2voigt(eps(v))));"
   ]
  },
  {
   "cell_type": "markdown",
   "id": "09dc489b-10f4-497d-bffd-b10bf9cadedc",
   "metadata": {},
   "source": [
    "## Problem position and resolution\n",
    "\n",
    "Different parts of the quarter plate boundaries are now defined as well as the exterior integration measure `ds`:"
   ]
  },
  {
   "cell_type": "code",
   "execution_count": 73,
   "id": "2abdb168-6dd0-4336-8f5a-6f4ca87ec2b0",
   "metadata": {},
   "outputs": [],
   "source": [
    "def top(x):\n",
    "    return np.isclose(x[1], L);\n",
    "\n",
    "def left(x):\n",
    "    return np.isclose(x[0], 0.);\n",
    "\n",
    "def bottom(x):\n",
    "    return np.isclose(x[1], 0);\n",
    "\n",
    "fdim = msh.topology.dim - 1\n",
    "\n",
    "# find all facets on top, bottom and left boundary\n",
    "left_facets = mesh.locate_entities_boundary(msh, fdim, left);\n",
    "bottom_facets = mesh.locate_entities_boundary(msh, fdim, bottom);\n",
    "top_facets = mesh.locate_entities_boundary(msh, fdim, top);"
   ]
  },
  {
   "cell_type": "markdown",
   "id": "bc2f906d-e4fc-4ad4-b640-a97181fcb66e",
   "metadata": {},
   "source": [
    "To load specific boundaries of the domain (in our case, the top boundary), we need to mark those boundaries. For the purpose of generality in this example, all boundaries are marked."
   ]
  },
  {
   "cell_type": "code",
   "execution_count": 74,
   "id": "4b144d42-6bdf-4ae2-aaec-8ac58c313ea9",
   "metadata": {},
   "outputs": [],
   "source": [
    "marked_facets = np.hstack([top_facets, \n",
    "                           left_facets, \n",
    "                           bottom_facets,\n",
    "                          ]);\n",
    "\n",
    "markers = np.hstack([np.full_like(top_facets, 1),\n",
    "                     np.full_like(left_facets, 2),\n",
    "                     np.full_like(bottom_facets, 3),\n",
    "                    ]);\n",
    "\n",
    "facets_order = np.argsort(marked_facets);\n",
    "\n",
    "facets_tags = mesh.meshtags(msh, \n",
    "                            fdim, \n",
    "                            marked_facets[facets_order],\n",
    "                            markers[facets_order]);\n",
    "\n",
    "ds = ufl.Measure('ds', domain=msh, subdomain_data=facets_tags);"
   ]
  },
  {
   "cell_type": "markdown",
   "id": "84624375-d392-4f08-8260-93b637e5b6da",
   "metadata": {},
   "source": [
    "We are now in position to define the variational form which is given as in 2D linear elasticity, the linear form now contains a Neumann term corresponding to a uniform vertical traction $\\sigma_\\infty$\n",
    " on the top boundary:"
   ]
  },
  {
   "cell_type": "code",
   "execution_count": 75,
   "id": "0ee54ee0-9363-4902-a71a-54d026e0963a",
   "metadata": {},
   "outputs": [],
   "source": [
    "# Define function space\n",
    "V = fem.VectorFunctionSpace(msh, (\"CG\", 2));\n",
    "\n",
    "# Define variational problem\n",
    "du = ufl.TrialFunction(V);\n",
    "u_ = ufl.TestFunction(V);\n",
    "# rho = 1\n",
    "# g = 1\n",
    "# f = fem.Constant(msh, ScalarType((0, -rho*g)))\n",
    "a = ufl.inner(sigma(du), eps(u_))*ufl.dx;\n",
    "\n",
    "# uniform traction on top boundary\n",
    "T = fem.Constant(msh, (0, 1e-3));\n",
    "# l = ufl.inner(f, u_) * ufl.dx;\n",
    "l = ufl.inner(T, u_)*ds(1);"
   ]
  },
  {
   "cell_type": "markdown",
   "id": "27ccb249-5ac4-4fcf-856b-15b3c2538cfb",
   "metadata": {},
   "source": [
    "Apply boundary conditions. Symmetric boundary conditions are applied on the **bottom** and **left** boundaries\n",
    "\n",
    "<div style=\"text-align:center\">\n",
    "  <img src=\"pics/boundary conditions.png\" alt=\"Problem geometry\" width=400 height=400 title=\"Symmetric boundary conditions\">\n",
    "  <figcaption><b>Symmetric boundary conditions</b></figcaption>\n",
    "</div>"
   ]
  },
  {
   "cell_type": "code",
   "execution_count": 76,
   "id": "79a0dbdb-cfc4-49b3-b07e-5811a31b6ef0",
   "metadata": {},
   "outputs": [],
   "source": [
    "# apply constrains on the x_dofs of the left boundary\n",
    "left_xdofs = fem.locate_dofs_topological(V.sub(0), # since order of x-coordinate is 0\n",
    "                                        facets_tags.dim, \n",
    "                                        facets_tags.find(2)); # since left facets has mark 2\n",
    "bc_l = fem.dirichletbc(ScalarType(0), \n",
    "                       left_xdofs,\n",
    "                       V.sub(0));\n",
    "\n",
    "# apply constrains on the y_dofs of the bottom boundary\n",
    "bottom_ydofs = fem.locate_dofs_topological(V.sub(1), # since order of y-coordinate is 1\n",
    "                                           facets_tags.dim, \n",
    "                                           facets_tags.find(3)); # since bottom facets has mark 3\n",
    "bc_b = fem.dirichletbc(ScalarType(0),\n",
    "                       bottom_ydofs,\n",
    "                       V.sub(1));"
   ]
  },
  {
   "cell_type": "markdown",
   "id": "1c223896-3f03-4916-a97f-8f1fe5c29b25",
   "metadata": {},
   "source": [
    "### Solve the linear variational problem\n",
    "As in the previous demos, we assemble the matrix and right hand side vector and use PETSc to solve our variational problem"
   ]
  },
  {
   "cell_type": "code",
   "execution_count": 77,
   "id": "ede53695-997a-48cc-a9d8-cf81802db038",
   "metadata": {},
   "outputs": [],
   "source": [
    "problem = fem.petsc.LinearProblem(a, l, bcs=[bc_l, bc_b], petsc_options={\"ksp_type\": \"preonly\", \"pc_type\": \"lu\"})\n",
    "uh = problem.solve()"
   ]
  },
  {
   "cell_type": "markdown",
   "id": "ee99b696-4e72-4047-9e0b-9e792281637f",
   "metadata": {},
   "source": [
    "# Stress computation and visualization\n",
    ">**TODO!**:\n",
    ">\n",
    ">A discription needs to be added"
   ]
  },
  {
   "cell_type": "code",
   "execution_count": 78,
   "id": "3b1c6549-d956-4745-a358-ba65564dcf07",
   "metadata": {},
   "outputs": [],
   "source": [
    "σxx = sigma(uh)[0,0]/T[1];\n",
    "σyy = sigma(uh)[1,1]/T[1];\n",
    "\n",
    "stress_fspace = fem.FunctionSpace(msh, (\"DG\", 0));\n",
    "σxx_expr = fem.Expression(σxx, stress_fspace.element.interpolation_points());\n",
    "stress_xx = fem.Function(stress_fspace);\n",
    "stress_xx.interpolate(σxx_expr);\n",
    "\n",
    "σyy_expr = fem.Expression(σyy, stress_fspace.element.interpolation_points());\n",
    "stress_yy = fem.Function(stress_fspace);\n",
    "stress_yy.interpolate(σyy_expr);\n",
    "\n"
   ]
  },
  {
   "cell_type": "code",
   "execution_count": 79,
   "id": "bbcae54e-4e3f-478a-b809-fb0f365cd015",
   "metadata": {},
   "outputs": [
    {
     "data": {
      "application/vnd.jupyter.widget-view+json": {
       "model_id": "03c944e7cccc4dcaa62e2806db6422b9",
       "version_major": 2,
       "version_minor": 0
      },
      "text/plain": [
       "ViewInteractiveWidget(height=768, layout=Layout(height='auto', width='100%'), width=1024)"
      ]
     },
     "metadata": {},
     "output_type": "display_data"
    }
   ],
   "source": [
    "pyvista.start_xvfb()\n",
    "from dolfinx.plot import create_vtk_mesh\n",
    "\n",
    "# Create plotter and pyvista grid\n",
    "p = pyvista.Plotter()\n",
    "topology, cell_types, x1 = create_vtk_mesh(V)\n",
    "grid1 = pyvista.UnstructuredGrid(topology, cell_types, x1);\n",
    "\n",
    "x2 = np.copy(x1); \n",
    "x2[:,0] += L*1.5;\n",
    "grid2 = pyvista.UnstructuredGrid(topology, cell_types, x2);\n",
    "\n",
    "\n",
    "grid1.cell_data[\"σxx\"] = stress_xx.vector.array\n",
    "grid1.set_active_scalars(\"σxx\")\n",
    "\n",
    "grid2.cell_data[\"σyy\"] = stress_yy.vector.array\n",
    "grid2.set_active_scalars(\"σyy\")\n",
    "\n",
    "\n",
    "actor_1 = p.add_mesh(grid1)\n",
    "actor_2 = p.add_mesh(grid2)\n",
    "p.view_xy()\n",
    "if not pyvista.OFF_SCREEN:\n",
    "    p.show()\n",
    "else:\n",
    "    fig_array = p.screenshot(f\"component.png\")"
   ]
  }
 ],
 "metadata": {
  "kernelspec": {
   "display_name": "Python 3 (ipykernel)",
   "language": "python",
   "name": "python3"
  },
  "language_info": {
   "codemirror_mode": {
    "name": "ipython",
    "version": 3
   },
   "file_extension": ".py",
   "mimetype": "text/x-python",
   "name": "python",
   "nbconvert_exporter": "python",
   "pygments_lexer": "ipython3",
   "version": "3.10.4"
  }
 },
 "nbformat": 4,
 "nbformat_minor": 5
}
